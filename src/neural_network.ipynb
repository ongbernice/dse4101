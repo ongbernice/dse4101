{
 "cells": [
  {
   "cell_type": "code",
   "execution_count": 3,
   "metadata": {},
   "outputs": [],
   "source": [
    "import pandas as pd\n",
    "import numpy as np\n",
    "from sklearn.model_selection import train_test_split\n",
    "from sklearn.preprocessing import StandardScaler\n",
    "from sklearn.neural_network import MLPRegressor\n",
    "from sklearn.metrics import mean_squared_error, r2_score"
   ]
  },
  {
   "cell_type": "code",
   "execution_count": 4,
   "metadata": {},
   "outputs": [],
   "source": [
    "# load data\n",
    "df = pd.read_csv(\"../data/final_merged_data.csv\", index_col=0)"
   ]
  },
  {
   "cell_type": "code",
   "execution_count": 5,
   "metadata": {},
   "outputs": [
    {
     "name": "stdout",
     "output_type": "stream",
     "text": [
      "Train R²: 0.3360, Train RMSE: 0.1587\n",
      "Test R²: -0.0479, Test RMSE: 0.1852\n"
     ]
    },
    {
     "name": "stderr",
     "output_type": "stream",
     "text": [
      "c:\\Users\\yangt\\AppData\\Local\\Programs\\Python\\Python39\\lib\\site-packages\\sklearn\\neural_network\\_multilayer_perceptron.py:697: UserWarning: Training interrupted by user.\n",
      "  warnings.warn(\"Training interrupted by user.\")\n",
      "c:\\Users\\yangt\\AppData\\Local\\Programs\\Python\\Python39\\lib\\site-packages\\sklearn\\metrics\\_regression.py:492: FutureWarning: 'squared' is deprecated in version 1.4 and will be removed in 1.6. To calculate the root mean squared error, use the function'root_mean_squared_error'.\n",
      "  warnings.warn(\n",
      "c:\\Users\\yangt\\AppData\\Local\\Programs\\Python\\Python39\\lib\\site-packages\\sklearn\\metrics\\_regression.py:492: FutureWarning: 'squared' is deprecated in version 1.4 and will be removed in 1.6. To calculate the root mean squared error, use the function'root_mean_squared_error'.\n",
      "  warnings.warn(\n"
     ]
    }
   ],
   "source": [
    "# Keep Ticker for reference but exclude it from inputs\n",
    "tickers = df[\"Ticker\"]  # Store tickers for later use\n",
    "df_numeric = df.drop(columns=[\"Date\", \"Ticker\"], errors=\"ignore\")  # Drop non-numeric\n",
    "\n",
    "# Handle missing values by filling with column mean\n",
    "df_numeric.fillna(df_numeric.mean(), inplace=True)\n",
    "\n",
    "# Define features and target\n",
    "X = df_numeric.drop(columns=[\"Risk_Premium\"])\n",
    "y = df_numeric[\"Risk_Premium\"]\n",
    "\n",
    "# Train-test split\n",
    "X_train, X_test, y_train, y_test, tickers_train, tickers_test = train_test_split(\n",
    "    X, y, tickers, test_size=0.2, random_state=42\n",
    ")\n",
    "\n",
    "# Standardize features\n",
    "scaler = StandardScaler()\n",
    "X_train_scaled = scaler.fit_transform(X_train)\n",
    "X_test_scaled = scaler.transform(X_test)\n",
    "\n",
    "# Define and train the neural network\n",
    "mlp = MLPRegressor(hidden_layer_sizes=(64, 32, 16), activation='relu', solver='adam', \n",
    "                   max_iter=500, random_state=42)\n",
    "mlp.fit(X_train_scaled, y_train)\n",
    "\n",
    "# Predictions\n",
    "y_train_pred = mlp.predict(X_train_scaled)\n",
    "y_test_pred = mlp.predict(X_test_scaled)\n",
    "\n",
    "# Evaluation Metrics\n",
    "train_r2 = r2_score(y_train, y_train_pred)\n",
    "test_r2 = r2_score(y_test, y_test_pred)\n",
    "train_rmse = mean_squared_error(y_train, y_train_pred, squared=False)\n",
    "test_rmse = mean_squared_error(y_test, y_test_pred, squared=False)\n",
    "\n",
    "print(f\"Train R²: {train_r2:.4f}, Train RMSE: {train_rmse:.4f}\")\n",
    "print(f\"Test R²: {test_r2:.4f}, Test RMSE: {test_rmse:.4f}\")\n",
    "\n",
    "# Store predictions with tickers\n",
    "predictions_df = pd.DataFrame({\n",
    "    \"Ticker\": tickers_test,\n",
    "    \"Actual_Risk_Premium\": y_test,\n",
    "    \"Predicted_Risk_Premium\": y_test_pred\n",
    "})"
   ]
  },
  {
   "cell_type": "code",
   "execution_count": null,
   "metadata": {},
   "outputs": [],
   "source": [
    "# Save predictions\n",
    "predictions_df.to_csv(\"neural_network_predictions.csv\", index=False)"
   ]
  }
 ],
 "metadata": {
  "kernelspec": {
   "display_name": "Python 3",
   "language": "python",
   "name": "python3"
  },
  "language_info": {
   "codemirror_mode": {
    "name": "ipython",
    "version": 3
   },
   "file_extension": ".py",
   "mimetype": "text/x-python",
   "name": "python",
   "nbconvert_exporter": "python",
   "pygments_lexer": "ipython3",
   "version": "3.9.6"
  }
 },
 "nbformat": 4,
 "nbformat_minor": 2
}
